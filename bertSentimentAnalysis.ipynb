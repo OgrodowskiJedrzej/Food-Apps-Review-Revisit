{
 "cells": [
  {
   "cell_type": "code",
   "execution_count": null,
   "metadata": {},
   "outputs": [],
   "source": [
    "from transformers import AutoTokenizer, AutoModelForSequenceClassification\n",
    "import torch\n",
    "from sklearn.utils import shuffle\n",
    "from sklearn.metrics import precision_score, recall_score, f1_score\n",
    "import pandas as pd"
   ]
  },
  {
   "cell_type": "code",
   "execution_count": null,
   "metadata": {},
   "outputs": [],
   "source": [
    "subset = pd.read_csv('SubsetBERT.csv')"
   ]
  },
  {
   "cell_type": "code",
   "execution_count": null,
   "metadata": {},
   "outputs": [],
   "source": [
    "tokenizer = AutoTokenizer.from_pretrained(\n",
    "    \"nlptown/bert-base-multilingual-uncased-sentiment\")\n",
    "model = AutoModelForSequenceClassification.from_pretrained(\n",
    "    \"nlptown/bert-base-multilingual-uncased-sentiment\")\n",
    "\n",
    "tokenizedReviewsPackedIntoList = subset['content'].tolist()\n",
    "\n",
    "# Convert tokenized input to tensors\n",
    "inputs = tokenizer(tokenizedReviewsPackedIntoList, is_split_into_words=True,\n",
    "                   return_tensors='pt', padding=True, truncation=True)\n",
    "\n",
    "# Pass inputs through the model\n",
    "with torch.no_grad():\n",
    "    outputs = model(**inputs)\n",
    "\n",
    "# Add 1 because the model outputs are zero-indexed\n",
    "predictedScore = torch.argmax(outputs.logits, dim=1) + 1\n",
    "\n",
    "# Extract confidence scores (highest softmax value for each prediction)\n",
    "confidence = torch.softmax(\n",
    "    outputs.logits, dim=1).max(dim=1).values * 100\n",
    "\n",
    "subset['predictedScore'] = predictedScore.numpy()\n",
    "subset['confidence'] = confidence.numpy()"
   ]
  }
 ],
 "metadata": {
  "kernelspec": {
   "display_name": "Python 3",
   "language": "python",
   "name": "python3"
  },
  "language_info": {
   "name": "python",
   "version": "3.12.2"
  }
 },
 "nbformat": 4,
 "nbformat_minor": 2
}
