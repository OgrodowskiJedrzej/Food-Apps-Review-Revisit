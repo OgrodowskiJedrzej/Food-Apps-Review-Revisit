{
 "cells": [
  {
   "cell_type": "code",
   "execution_count": null,
   "metadata": {},
   "outputs": [],
   "source": [
    "from transformers import AutoTokenizer, AutoModelForSequenceClassification\n",
    "import torch\n",
    "import pandas as pd\n",
    "\n",
    "import warnings\n",
    "warnings.filterwarnings('ignore')"
   ]
  },
  {
   "cell_type": "code",
   "execution_count": 2,
   "metadata": {},
   "outputs": [],
   "source": [
    "subset = pd.read_csv('sampleDataWithPrediction.csv')"
   ]
  },
  {
   "cell_type": "code",
   "execution_count": null,
   "metadata": {},
   "outputs": [],
   "source": [
    "tokenizer = AutoTokenizer.from_pretrained(\n",
    "    \"nlptown/bert-base-multilingual-uncased-sentiment\")\n",
    "model = AutoModelForSequenceClassification.from_pretrained(\n",
    "    \"nlptown/bert-base-multilingual-uncased-sentiment\")\n",
    "\n",
    "tokenizedReviewsPackedIntoList = subset['content'].tolist()\n",
    "\n",
    "inputs = tokenizer(\n",
    "    tokenizedReviewsPackedIntoList,\n",
    "    is_split_into_words=False,\n",
    "    return_tensors='pt',             # Return PyTorch tensors\n",
    "    padding=True,                    # Pad sequences to the same length\n",
    "    truncation=True,                 # Truncate sequences if too long\n",
    "    max_length=512                   # Set a maximum length for each review\n",
    ")\n",
    "\n",
    "# Pass inputs through the model\n",
    "with torch.no_grad():\n",
    "    outputs = model(**inputs)\n",
    "\n",
    "\n",
    "predictedScore = torch.argmax(outputs.logits, dim=1) + 1\n",
    "confidence = torch.softmax(outputs.logits, dim=1).max(dim=1).values * 100\n",
    "\n",
    "subset['BertPredictedScore'] = predictedScore.numpy()\n",
    "subset['BertConfidence'] = confidence.numpy()\n",
    "\n",
    "subset['BertPredictedSentiment'] = subset['BertPredictedScore'].apply(\n",
    "    lambda x: 'positive' if x >= 4 else ('neutral' if x == 3 else 'negative'))"
   ]
  },
  {
   "cell_type": "code",
   "execution_count": null,
   "metadata": {},
   "outputs": [],
   "source": [
    "subset.to_csv('sampleDataWithPrediction.csv')"
   ]
  }
 ],
 "metadata": {
  "kernelspec": {
   "display_name": "Python 3",
   "language": "python",
   "name": "python3"
  },
  "language_info": {
   "codemirror_mode": {
    "name": "ipython",
    "version": 3
   },
   "file_extension": ".py",
   "mimetype": "text/x-python",
   "name": "python",
   "nbconvert_exporter": "python",
   "pygments_lexer": "ipython3",
   "version": "3.12.2"
  }
 },
 "nbformat": 4,
 "nbformat_minor": 2
}
