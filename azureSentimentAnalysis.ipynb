{
 "cells": [
  {
   "cell_type": "code",
   "execution_count": 1,
   "metadata": {},
   "outputs": [],
   "source": [
    "import os\n",
    "from azure.core.credentials import AzureKeyCredential\n",
    "from azure.ai.textanalytics import TextAnalyticsClient\n",
    "import pandas as pd\n",
    "from itertools import islice\n",
    "from dotenv import load_dotenv\n",
    "\n",
    "import warnings\n",
    "warnings.filterwarnings('ignore')"
   ]
  },
  {
   "cell_type": "code",
   "execution_count": 2,
   "metadata": {},
   "outputs": [],
   "source": [
    "load_dotenv()\n",
    "endpoint = os.getenv('AZURE_LANGUAGE_ENDPOINT')\n",
    "key = os.getenv('AZURE_LANGUAGE_KEY')\n",
    "\n",
    "textAnalyticsClient = TextAnalyticsClient(endpoint=endpoint, credential=AzureKeyCredential(key=key))"
   ]
  },
  {
   "cell_type": "code",
   "execution_count": 3,
   "metadata": {},
   "outputs": [],
   "source": [
    "def batch(iterable, batch_size):\n",
    "    iterator = iter(iterable)\n",
    "    for first in iterator:\n",
    "        yield [first, *islice(iterator, batch_size - 1)]"
   ]
  },
  {
   "cell_type": "code",
   "execution_count": null,
   "metadata": {},
   "outputs": [],
   "source": [
    "subset = pd.read_csv('sampleDataForPrediction.csv')\n",
    "\n",
    "reviews = subset['content'].tolist()\n",
    "\n",
    "predictedSentiment = []\n",
    "confidenceScores = []\n",
    "\n",
    "batchSize = 5\n",
    "batches = [reviews[i:i + batchSize]for i in range(0, len(reviews), batchSize)]\n",
    "for batch in batches:\n",
    "    response = textAnalyticsClient.analyze_sentiment(documents=batch)\n",
    "    for doc in response:\n",
    "        predictedSentiment.append(doc.sentiment) \n",
    "        confidenceScores.append(\n",
    "            max(doc.confidence_scores.__dict__.values()) * 100)\n",
    "\n",
    "subset['AzurePredictedSentiment'] = predictedSentiment\n",
    "subset['AzureConfidence'] = confidenceScores"
   ]
  },
  {
   "cell_type": "code",
   "execution_count": 11,
   "metadata": {},
   "outputs": [],
   "source": [
    "subset.head()\n",
    "subset.to_csv('sampleDataWithPrediction.csv')"
   ]
  }
 ],
 "metadata": {
  "kernelspec": {
   "display_name": "Python 3",
   "language": "python",
   "name": "python3"
  },
  "language_info": {
   "codemirror_mode": {
    "name": "ipython",
    "version": 3
   },
   "file_extension": ".py",
   "mimetype": "text/x-python",
   "name": "python",
   "nbconvert_exporter": "python",
   "pygments_lexer": "ipython3",
   "version": "3.12.2"
  }
 },
 "nbformat": 4,
 "nbformat_minor": 2
}
