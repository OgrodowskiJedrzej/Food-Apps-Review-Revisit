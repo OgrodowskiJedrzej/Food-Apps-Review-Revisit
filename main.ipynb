{
 "cells": [
  {
   "cell_type": "code",
   "execution_count": 47,
   "metadata": {},
   "outputs": [],
   "source": [
    "import numpy as np\n",
    "import pandas as pd\n",
    "import matplotlib.pyplot as plt\n",
    "import matplotlib.patches as patches\n",
    "\n",
    "# Suppress warnings\n",
    "import warnings\n",
    "warnings.filterwarnings('ignore')\n",
    "\n",
    "plt.rcParams['axes.spines.left'] = False\n",
    "plt.rcParams['axes.spines.right'] = False\n",
    "plt.rcParams['axes.spines.top'] = False"
   ]
  },
  {
   "cell_type": "markdown",
   "metadata": {},
   "source": [
    "### Data set"
   ]
  },
  {
   "cell_type": "code",
   "execution_count": 48,
   "metadata": {},
   "outputs": [
    {
     "data": {
      "text/html": [
       "<div>\n",
       "<style scoped>\n",
       "    .dataframe tbody tr th:only-of-type {\n",
       "        vertical-align: middle;\n",
       "    }\n",
       "\n",
       "    .dataframe tbody tr th {\n",
       "        vertical-align: top;\n",
       "    }\n",
       "\n",
       "    .dataframe thead th {\n",
       "        text-align: right;\n",
       "    }\n",
       "</style>\n",
       "<table border=\"1\" class=\"dataframe\">\n",
       "  <thead>\n",
       "    <tr style=\"text-align: right;\">\n",
       "      <th></th>\n",
       "      <th>date</th>\n",
       "      <th>content</th>\n",
       "      <th>score</th>\n",
       "      <th>userName</th>\n",
       "      <th>app</th>\n",
       "      <th>platform</th>\n",
       "      <th>replyContent</th>\n",
       "      <th>repliedDate</th>\n",
       "      <th>appVersion</th>\n",
       "    </tr>\n",
       "  </thead>\n",
       "  <tbody>\n",
       "    <tr>\n",
       "      <th>0</th>\n",
       "      <td>2022-10-20 17:08:18</td>\n",
       "      <td>Being single and traveling a lot for work, all...</td>\n",
       "      <td>5</td>\n",
       "      <td>TBeck-NARC</td>\n",
       "      <td>Bolt Food</td>\n",
       "      <td>App Store</td>\n",
       "      <td>NaN</td>\n",
       "      <td>NaN</td>\n",
       "      <td>NaN</td>\n",
       "    </tr>\n",
       "    <tr>\n",
       "      <th>1</th>\n",
       "      <td>2022-08-19 15:56:51</td>\n",
       "      <td>App is well-designed and nice to use. Only com...</td>\n",
       "      <td>4</td>\n",
       "      <td>henhouse</td>\n",
       "      <td>Bolt Food</td>\n",
       "      <td>App Store</td>\n",
       "      <td>NaN</td>\n",
       "      <td>NaN</td>\n",
       "      <td>NaN</td>\n",
       "    </tr>\n",
       "    <tr>\n",
       "      <th>2</th>\n",
       "      <td>2023-07-26 09:03:32</td>\n",
       "      <td>I’ve had this payment issue for over a month n...</td>\n",
       "      <td>1</td>\n",
       "      <td>hsghdoenvskrbbd</td>\n",
       "      <td>Bolt Food</td>\n",
       "      <td>App Store</td>\n",
       "      <td>NaN</td>\n",
       "      <td>NaN</td>\n",
       "      <td>NaN</td>\n",
       "    </tr>\n",
       "    <tr>\n",
       "      <th>3</th>\n",
       "      <td>2022-11-22 10:00:43</td>\n",
       "      <td>Live activities would be nice instead of getti...</td>\n",
       "      <td>4</td>\n",
       "      <td>Sussy31</td>\n",
       "      <td>Bolt Food</td>\n",
       "      <td>App Store</td>\n",
       "      <td>NaN</td>\n",
       "      <td>NaN</td>\n",
       "      <td>NaN</td>\n",
       "    </tr>\n",
       "    <tr>\n",
       "      <th>4</th>\n",
       "      <td>2023-06-14 09:04:39</td>\n",
       "      <td>After waiting for over an hour for our food an...</td>\n",
       "      <td>1</td>\n",
       "      <td>schalas1985</td>\n",
       "      <td>Bolt Food</td>\n",
       "      <td>App Store</td>\n",
       "      <td>NaN</td>\n",
       "      <td>NaN</td>\n",
       "      <td>NaN</td>\n",
       "    </tr>\n",
       "  </tbody>\n",
       "</table>\n",
       "</div>"
      ],
      "text/plain": [
       "                  date                                            content  \\\n",
       "0  2022-10-20 17:08:18  Being single and traveling a lot for work, all...   \n",
       "1  2022-08-19 15:56:51  App is well-designed and nice to use. Only com...   \n",
       "2  2023-07-26 09:03:32  I’ve had this payment issue for over a month n...   \n",
       "3  2022-11-22 10:00:43  Live activities would be nice instead of getti...   \n",
       "4  2023-06-14 09:04:39  After waiting for over an hour for our food an...   \n",
       "\n",
       "   score         userName        app   platform replyContent repliedDate  \\\n",
       "0      5       TBeck-NARC  Bolt Food  App Store          NaN         NaN   \n",
       "1      4         henhouse  Bolt Food  App Store          NaN         NaN   \n",
       "2      1  hsghdoenvskrbbd  Bolt Food  App Store          NaN         NaN   \n",
       "3      4          Sussy31  Bolt Food  App Store          NaN         NaN   \n",
       "4      1      schalas1985  Bolt Food  App Store          NaN         NaN   \n",
       "\n",
       "  appVersion  \n",
       "0        NaN  \n",
       "1        NaN  \n",
       "2        NaN  \n",
       "3        NaN  \n",
       "4        NaN  "
      ]
     },
     "execution_count": 48,
     "metadata": {},
     "output_type": "execute_result"
    }
   ],
   "source": [
    "df = pd.read_csv('food_delivery_apps.csv')\n",
    "df.head()"
   ]
  },
  {
   "cell_type": "code",
   "execution_count": 49,
   "metadata": {},
   "outputs": [
    {
     "name": "stdout",
     "output_type": "stream",
     "text": [
      "<class 'pandas.core.frame.DataFrame'>\n",
      "RangeIndex: 1247061 entries, 0 to 1247060\n",
      "Data columns (total 9 columns):\n",
      " #   Column        Non-Null Count    Dtype \n",
      "---  ------        --------------    ----- \n",
      " 0   date          1247061 non-null  object\n",
      " 1   content       1247061 non-null  object\n",
      " 2   score         1247061 non-null  int64 \n",
      " 3   userName      1247061 non-null  object\n",
      " 4   app           1247061 non-null  object\n",
      " 5   platform      1247061 non-null  object\n",
      " 6   replyContent  203760 non-null   object\n",
      " 7   repliedDate   203760 non-null   object\n",
      " 8   appVersion    973010 non-null   object\n",
      "dtypes: int64(1), object(8)\n",
      "memory usage: 85.6+ MB\n"
     ]
    }
   ],
   "source": [
    "df.info()"
   ]
  },
  {
   "cell_type": "markdown",
   "metadata": {},
   "source": [
    "### Data cleaning"
   ]
  },
  {
   "cell_type": "markdown",
   "metadata": {},
   "source": [
    "Drop duplicates"
   ]
  },
  {
   "cell_type": "code",
   "execution_count": 50,
   "metadata": {},
   "outputs": [],
   "source": [
    "df = df.drop_duplicates()"
   ]
  },
  {
   "cell_type": "markdown",
   "metadata": {},
   "source": [
    "Drop unused columns"
   ]
  },
  {
   "cell_type": "code",
   "execution_count": 51,
   "metadata": {},
   "outputs": [],
   "source": [
    "columnsToDrop = ['repliedDate', 'replyContent', 'appVersion']\n",
    "df = df.drop(columns=columnsToDrop)"
   ]
  },
  {
   "cell_type": "markdown",
   "metadata": {},
   "source": [
    "Change date format for better visualizations"
   ]
  },
  {
   "cell_type": "code",
   "execution_count": 52,
   "metadata": {},
   "outputs": [
    {
     "data": {
      "text/html": [
       "<div>\n",
       "<style scoped>\n",
       "    .dataframe tbody tr th:only-of-type {\n",
       "        vertical-align: middle;\n",
       "    }\n",
       "\n",
       "    .dataframe tbody tr th {\n",
       "        vertical-align: top;\n",
       "    }\n",
       "\n",
       "    .dataframe thead th {\n",
       "        text-align: right;\n",
       "    }\n",
       "</style>\n",
       "<table border=\"1\" class=\"dataframe\">\n",
       "  <thead>\n",
       "    <tr style=\"text-align: right;\">\n",
       "      <th></th>\n",
       "      <th>date</th>\n",
       "      <th>content</th>\n",
       "      <th>score</th>\n",
       "      <th>userName</th>\n",
       "      <th>app</th>\n",
       "      <th>platform</th>\n",
       "    </tr>\n",
       "  </thead>\n",
       "  <tbody>\n",
       "    <tr>\n",
       "      <th>0</th>\n",
       "      <td>20-10-2022</td>\n",
       "      <td>Being single and traveling a lot for work, all...</td>\n",
       "      <td>5</td>\n",
       "      <td>TBeck-NARC</td>\n",
       "      <td>Bolt Food</td>\n",
       "      <td>App Store</td>\n",
       "    </tr>\n",
       "    <tr>\n",
       "      <th>1</th>\n",
       "      <td>19-08-2022</td>\n",
       "      <td>App is well-designed and nice to use. Only com...</td>\n",
       "      <td>4</td>\n",
       "      <td>henhouse</td>\n",
       "      <td>Bolt Food</td>\n",
       "      <td>App Store</td>\n",
       "    </tr>\n",
       "    <tr>\n",
       "      <th>2</th>\n",
       "      <td>26-07-2023</td>\n",
       "      <td>I’ve had this payment issue for over a month n...</td>\n",
       "      <td>1</td>\n",
       "      <td>hsghdoenvskrbbd</td>\n",
       "      <td>Bolt Food</td>\n",
       "      <td>App Store</td>\n",
       "    </tr>\n",
       "    <tr>\n",
       "      <th>3</th>\n",
       "      <td>22-11-2022</td>\n",
       "      <td>Live activities would be nice instead of getti...</td>\n",
       "      <td>4</td>\n",
       "      <td>Sussy31</td>\n",
       "      <td>Bolt Food</td>\n",
       "      <td>App Store</td>\n",
       "    </tr>\n",
       "    <tr>\n",
       "      <th>4</th>\n",
       "      <td>14-06-2023</td>\n",
       "      <td>After waiting for over an hour for our food an...</td>\n",
       "      <td>1</td>\n",
       "      <td>schalas1985</td>\n",
       "      <td>Bolt Food</td>\n",
       "      <td>App Store</td>\n",
       "    </tr>\n",
       "  </tbody>\n",
       "</table>\n",
       "</div>"
      ],
      "text/plain": [
       "         date                                            content  score  \\\n",
       "0  20-10-2022  Being single and traveling a lot for work, all...      5   \n",
       "1  19-08-2022  App is well-designed and nice to use. Only com...      4   \n",
       "2  26-07-2023  I’ve had this payment issue for over a month n...      1   \n",
       "3  22-11-2022  Live activities would be nice instead of getti...      4   \n",
       "4  14-06-2023  After waiting for over an hour for our food an...      1   \n",
       "\n",
       "          userName        app   platform  \n",
       "0       TBeck-NARC  Bolt Food  App Store  \n",
       "1         henhouse  Bolt Food  App Store  \n",
       "2  hsghdoenvskrbbd  Bolt Food  App Store  \n",
       "3          Sussy31  Bolt Food  App Store  \n",
       "4      schalas1985  Bolt Food  App Store  "
      ]
     },
     "execution_count": 52,
     "metadata": {},
     "output_type": "execute_result"
    }
   ],
   "source": [
    "df['date'] = pd.to_datetime(df['date'], errors='coerce')\n",
    "df['date'] = df['date'].dt.strftime('%d-%m-%Y')\n",
    "df.head()"
   ]
  },
  {
   "cell_type": "markdown",
   "metadata": {},
   "source": [
    "Analysis"
   ]
  },
  {
   "cell_type": "code",
   "execution_count": 64,
   "metadata": {},
   "outputs": [
    {
     "data": {
      "image/png": "[encoded data removed]",
      "text/plain": [
       "<Figure size 1200x600 with 1 Axes>"
      ]
     },
     "metadata": {},
     "output_type": "display_data"
    }
   ],
   "source": [
    "scoreCount = df.groupby('score').size()\n",
    "\n",
    "# Calculate percentage distribution\n",
    "totalCount = scoreCount.sum()\n",
    "scorePercentage = (scoreCount / totalCount) * 100\n",
    "\n",
    "fig, ax = plt.subplots(figsize=(12, 6))\n",
    "plt.barh(scorePercentage.index, scorePercentage, color='steelblue')\n",
    "bars = ax.patches\n",
    "\n",
    "# Change color of bars\n",
    "colors = ['salmon', 'lightgrey', 'lightgrey', 'lightgrey']\n",
    "for bar, color in zip(bars, colors):\n",
    "    bar.set_color(color)\n",
    "\n",
    "# Customize plot\n",
    "plt.title(\"Percentage Distribution of Reviews\",\n",
    "          loc='left', fontsize=15, color='darkgrey')\n",
    "plt.xlabel(\"Percentage of Reviews (%)\", color='grey', labelpad=10)\n",
    "plt.xticks(color='grey')\n",
    "plt.ylabel(\"Rating\", color='grey', labelpad=10)\n",
    "plt.yticks(color='grey')\n",
    "plt.tick_params(left=False)\n",
    "plt.tick_params(axis='x', color='grey')\n",
    "ax.spines['bottom'].set_color('grey')\n",
    "\n",
    "# Description\n",
    "description = \"\"\"\n",
    "All bars sums up to 100%. \\nWe can notice that the dominant ratings are the extremes 1 and 5.\n",
    "\"\"\"\n",
    "plt.text(0, -0.2, description, ha='left', va='center',\n",
    "         fontsize=12, color='grey', transform=ax.transAxes)\n",
    "\n",
    "plt.tight_layout()\n",
    "plt.show()"
   ]
  },
  {
   "cell_type": "code",
   "execution_count": 79,
   "metadata": {},
   "outputs": [
    {
     "data": {
      "image/png": "[encoded data removed]",
      "text/plain": [
       "<Figure size 1200x600 with 1 Axes>"
      ]
     },
     "metadata": {},
     "output_type": "display_data"
    }
   ],
   "source": [
    "\n",
    "platforms = df['platform'].unique()\n",
    "apps = df['app'].unique()\n",
    "width = 0.35  \n",
    "x = np.arange(len(apps)) \n",
    "\n",
    "fig, ax = plt.subplots(figsize=(12, 6))\n",
    "\n",
    "for i, platform in enumerate(platforms):\n",
    "    platform_df = df[df['platform'] == platform]\n",
    "    app_counts = platform_df['app'].value_counts()\n",
    "    app_percentage = (app_counts / app_counts.sum()) * 100\n",
    "    ax.bar(x + i * width - width / 2, app_percentage, width, label=platform)\n",
    "ax.set_xticklabels(apps)\n",
    "\n",
    "plt.title('Percentage Distribution of Applications by Platform',\n",
    "             loc='left', fontsize=15, color='darkgrey')\n",
    "plt.xlabel(None)\n",
    "plt.ylabel(None)\n",
    "plt.yticks([])\n",
    "plt.legend()\n",
    "\n",
    "def add_labels(bars):\n",
    "    for bar in bars:\n",
    "        height = bar.get_height()\n",
    "        ax.annotate(f'{height:.1f}%',\n",
    "                    xy=(bar.get_x() + bar.get_width() / 2, height),\n",
    "                    xytext=(0, 3),  # 3 points vertical offset\n",
    "                    textcoords=\"offset points\",\n",
    "                    ha='center', va='bottom')\n",
    "\n",
    "\n",
    "bars = ax.patches\n",
    "add_labels(bars)\n",
    "\n",
    "plt.tight_layout()\n",
    "plt.show()"
   ]
  }
 ],
 "metadata": {
  "kernelspec": {
   "display_name": "Python 3",
   "language": "python",
   "name": "python3"
  },
  "language_info": {
   "codemirror_mode": {
    "name": "ipython",
    "version": 3
   },
   "file_extension": ".py",
   "mimetype": "text/x-python",
   "name": "python",
   "nbconvert_exporter": "python",
   "pygments_lexer": "ipython3",
   "version": "3.12.2"
  }
 },
 "nbformat": 4,
 "nbformat_minor": 2
}
